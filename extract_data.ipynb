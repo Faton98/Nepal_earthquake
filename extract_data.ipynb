{
 "cells": [
  {
   "cell_type": "code",
   "execution_count": 1,
   "metadata": {},
   "outputs": [],
   "source": [
    "import pandas as pd \n",
    "import requests\n",
    "import numpy as np\n",
    "import seaborn as sns\n",
    "import matplotlib.pyplot as plt\n",
    "import scipy.stats as stats"
   ]
  },
  {
   "cell_type": "code",
   "execution_count": 2,
   "metadata": {},
   "outputs": [],
   "source": [
    "#Function to fetch table to data\n",
    "def fetch_data_from_url(url):\n",
    "    #gets the page content from the url \n",
    "    html = requests.get(url).content\n",
    "    #read the table content of html \n",
    "    df_list = pd.read_html(html)\n",
    "    #targets the first table from the list of table\n",
    "    df = df_list[0]\n",
    "    df.index += 1 \n",
    "    return df"
   ]
  },
  {
   "cell_type": "code",
   "execution_count": 3,
   "metadata": {},
   "outputs": [],
   "source": [
    "#a better way to do this \n",
    "urls = [\"http://seismonepal.gov.np/earthquakes/1994\",\n",
    "       \"http://seismonepal.gov.np/earthquakes/1995\",\n",
    "       \"http://seismonepal.gov.np/earthquakes/1996\",\n",
    "       \"http://seismonepal.gov.np/earthquakes/1997\",\n",
    "       \"http://seismonepal.gov.np/earthquakes/1998\",\n",
    "       \"http://seismonepal.gov.np/earthquakes/1999\",\n",
    "       \"http://seismonepal.gov.np/earthquakes/2000\",\n",
    "       \"http://seismonepal.gov.np/earthquakes/2001\",\n",
    "       \"http://seismonepal.gov.np/earthquakes/2002\",\n",
    "       \"http://seismonepal.gov.np/earthquakes/2003\",\n",
    "       \"http://seismonepal.gov.np/earthquakes/2004\",\n",
    "       \"http://seismonepal.gov.np/earthquakes/2005\",\n",
    "       \"http://seismonepal.gov.np/earthquakes/2006\",\n",
    "       \"http://seismonepal.gov.np/earthquakes/2007\",\n",
    "       \"http://seismonepal.gov.np/earthquakes/2008\",\n",
    "       \"http://seismonepal.gov.np/earthquakes/2009\",\n",
    "       \"http://seismonepal.gov.np/earthquakes/2010\",\n",
    "       \"http://seismonepal.gov.np/earthquakes/2011\",\n",
    "       \"http://seismonepal.gov.np/earthquakes/2012\",\n",
    "       \"http://seismonepal.gov.np/earthquakes/2013\",\n",
    "       \"http://seismonepal.gov.np/earthquakes/2014\",\n",
    "       \"http://seismonepal.gov.np/earthquakes/2015\",\n",
    "       \"http://seismonepal.gov.np/earthquakes/2016\",\n",
    "       \"http://seismonepal.gov.np/earthquakes/2017\",\n",
    "       \"http://seismonepal.gov.np/earthquakes/2018\",\n",
    "       \"http://seismonepal.gov.np/earthquakes/2019\",]\n",
    "\n",
    "#getting all the data from 1994-2019 in one place     \n",
    "result = []\n",
    "for url in urls:\n",
    "    result.append(fetch_data_from_url(url))"
   ]
  },
  {
   "cell_type": "code",
   "execution_count": 415,
   "metadata": {},
   "outputs": [],
   "source": [
    "#concatenate all the table from result array to one dataframe\n",
    "df = pd.concat(result)"
   ]
  },
  {
   "cell_type": "code",
   "execution_count": 416,
   "metadata": {},
   "outputs": [],
   "source": [
    "df = df.reset_index()"
   ]
  },
  {
   "cell_type": "code",
   "execution_count": 417,
   "metadata": {},
   "outputs": [
    {
     "data": {
      "text/plain": [
       "Index(['index', 'Date', 'Time', 'Latitude', 'Longitude', 'Magnitude(ML)',\n",
       "       'Remarks', 'Epicenter', 'Form'],\n",
       "      dtype='object')"
      ]
     },
     "execution_count": 417,
     "metadata": {},
     "output_type": "execute_result"
    }
   ],
   "source": [
    "df.columns"
   ]
  },
  {
   "cell_type": "code",
   "execution_count": 418,
   "metadata": {},
   "outputs": [],
   "source": [
    "#dropping the un-necessary columns\n",
    "df = df.drop(['Form','Remarks','index'],axis = 1)"
   ]
  },
  {
   "cell_type": "code",
   "execution_count": 419,
   "metadata": {},
   "outputs": [],
   "source": [
    "# check data type of each columns\n",
    "df.columns = ['Date','Time','Lat',\"Long\",\"Magnitude\",\"Epicenter\"]"
   ]
  },
  {
   "cell_type": "code",
   "execution_count": 420,
   "metadata": {},
   "outputs": [
    {
     "data": {
      "text/html": [
       "<div>\n",
       "<style scoped>\n",
       "    .dataframe tbody tr th:only-of-type {\n",
       "        vertical-align: middle;\n",
       "    }\n",
       "\n",
       "    .dataframe tbody tr th {\n",
       "        vertical-align: top;\n",
       "    }\n",
       "\n",
       "    .dataframe thead th {\n",
       "        text-align: right;\n",
       "    }\n",
       "</style>\n",
       "<table border=\"1\" class=\"dataframe\">\n",
       "  <thead>\n",
       "    <tr style=\"text-align: right;\">\n",
       "      <th></th>\n",
       "      <th>Date</th>\n",
       "      <th>Time</th>\n",
       "      <th>Lat</th>\n",
       "      <th>Long</th>\n",
       "      <th>Magnitude</th>\n",
       "      <th>Epicenter</th>\n",
       "    </tr>\n",
       "  </thead>\n",
       "  <tbody>\n",
       "    <tr>\n",
       "      <th>0</th>\n",
       "      <td>B.S:2051-8-28 A.D:1994-12-13</td>\n",
       "      <td>Local:11:00UTC:N/A</td>\n",
       "      <td>28.70</td>\n",
       "      <td>82.88</td>\n",
       "      <td>4.6</td>\n",
       "      <td>Rukum</td>\n",
       "    </tr>\n",
       "    <tr>\n",
       "      <th>1</th>\n",
       "      <td>B.S:2051-8-27 A.D:1994-12-12</td>\n",
       "      <td>Local:11:00UTC:N/A</td>\n",
       "      <td>29.84</td>\n",
       "      <td>80.69</td>\n",
       "      <td>4.6</td>\n",
       "      <td>Darchula</td>\n",
       "    </tr>\n",
       "    <tr>\n",
       "      <th>2</th>\n",
       "      <td>B.S:2051-8-12 A.D:1994-11-27</td>\n",
       "      <td>Local:11:00UTC:N/A</td>\n",
       "      <td>29.72</td>\n",
       "      <td>81.56</td>\n",
       "      <td>4.5</td>\n",
       "      <td>Bajura</td>\n",
       "    </tr>\n",
       "    <tr>\n",
       "      <th>3</th>\n",
       "      <td>B.S:2051-8-6 A.D:1994-11-21</td>\n",
       "      <td>Local:11:00UTC:N/A</td>\n",
       "      <td>29.54</td>\n",
       "      <td>81.15</td>\n",
       "      <td>4.2</td>\n",
       "      <td>Bajhang</td>\n",
       "    </tr>\n",
       "    <tr>\n",
       "      <th>4</th>\n",
       "      <td>B.S:2051-7-8 A.D:1994-10-24</td>\n",
       "      <td>Local:11:00UTC:N/A</td>\n",
       "      <td>28.92</td>\n",
       "      <td>82.00</td>\n",
       "      <td>4.7</td>\n",
       "      <td>Jajarkot</td>\n",
       "    </tr>\n",
       "  </tbody>\n",
       "</table>\n",
       "</div>"
      ],
      "text/plain": [
       "                           Date                Time    Lat   Long  Magnitude  \\\n",
       "0  B.S:2051-8-28 A.D:1994-12-13  Local:11:00UTC:N/A  28.70  82.88        4.6   \n",
       "1  B.S:2051-8-27 A.D:1994-12-12  Local:11:00UTC:N/A  29.84  80.69        4.6   \n",
       "2  B.S:2051-8-12 A.D:1994-11-27  Local:11:00UTC:N/A  29.72  81.56        4.5   \n",
       "3   B.S:2051-8-6 A.D:1994-11-21  Local:11:00UTC:N/A  29.54  81.15        4.2   \n",
       "4   B.S:2051-7-8 A.D:1994-10-24  Local:11:00UTC:N/A  28.92  82.00        4.7   \n",
       "\n",
       "  Epicenter  \n",
       "0     Rukum  \n",
       "1  Darchula  \n",
       "2    Bajura  \n",
       "3   Bajhang  \n",
       "4  Jajarkot  "
      ]
     },
     "execution_count": 420,
     "metadata": {},
     "output_type": "execute_result"
    }
   ],
   "source": [
    "df.head()"
   ]
  },
  {
   "cell_type": "code",
   "execution_count": 421,
   "metadata": {},
   "outputs": [],
   "source": [
    "#change the Date column to a proper format(removing the nepali date)\n",
    "dates = []\n",
    "for line in df.Date:\n",
    "#   Split the two dates given \n",
    "    date = line.split()\n",
    "    date = line.split(\":\")\n",
    "    del date[:2]\n",
    "    dates.append(date)"
   ]
  },
  {
   "cell_type": "code",
   "execution_count": 422,
   "metadata": {},
   "outputs": [],
   "source": [
    "# Change the Time column to standard format\n",
    "Times = []\n",
    "for line in df.Time:\n",
    "    Time = line.split(\"Local:\")  \n",
    "    del Time[0]\n",
    "    for time_line in Time:\n",
    "        Time = time_line.split('UTC:')\n",
    "        del Time[1]\n",
    "#         print(Time)\n",
    "    Times.append(Time)"
   ]
  },
  {
   "cell_type": "code",
   "execution_count": 423,
   "metadata": {},
   "outputs": [],
   "source": [
    "#Covert the date and time column to pandas dataframe\n",
    "Times = pd.DataFrame(Times)\n",
    "Times.columns =['Time']\n",
    "Dates = pd.DataFrame(dates)\n",
    "Dates.columns=['Date']"
   ]
  },
  {
   "cell_type": "code",
   "execution_count": 424,
   "metadata": {},
   "outputs": [],
   "source": [
    "# Concatenate the date and time dataframe together separated by space\n",
    "Dates['DateTime'] = Dates[\"Date\"]+ \" \" + Times[\"Time\"].map(str)"
   ]
  },
  {
   "cell_type": "code",
   "execution_count": 425,
   "metadata": {},
   "outputs": [
    {
     "data": {
      "text/plain": [
       "965"
      ]
     },
     "execution_count": 425,
     "metadata": {},
     "output_type": "execute_result"
    }
   ],
   "source": [
    "len(Dates)"
   ]
  },
  {
   "cell_type": "code",
   "execution_count": 426,
   "metadata": {},
   "outputs": [],
   "source": [
    "# checking to see if the two dates in the two dataframe match\n",
    "test = pd.DataFrame({'x':Dates.DateTime, 'y':df.Date})"
   ]
  },
  {
   "cell_type": "code",
   "execution_count": 427,
   "metadata": {},
   "outputs": [],
   "source": [
    "#Convert the DateTime column to datetime type\n",
    "Dates['DateTime'] = pd.to_datetime(Dates['DateTime'],  errors='coerce')"
   ]
  },
  {
   "cell_type": "code",
   "execution_count": 428,
   "metadata": {},
   "outputs": [],
   "source": [
    "# Merge the datetime column to the main dataframe\n",
    "df['DateTime'] = Dates['DateTime']"
   ]
  },
  {
   "cell_type": "code",
   "execution_count": 429,
   "metadata": {},
   "outputs": [],
   "source": [
    "#Drop the columns not required\n",
    "df = df.drop(['Date','Time'],axis = 1)"
   ]
  },
  {
   "cell_type": "code",
   "execution_count": 434,
   "metadata": {},
   "outputs": [
    {
     "data": {
      "text/html": [
       "<div>\n",
       "<style scoped>\n",
       "    .dataframe tbody tr th:only-of-type {\n",
       "        vertical-align: middle;\n",
       "    }\n",
       "\n",
       "    .dataframe tbody tr th {\n",
       "        vertical-align: top;\n",
       "    }\n",
       "\n",
       "    .dataframe thead th {\n",
       "        text-align: right;\n",
       "    }\n",
       "</style>\n",
       "<table border=\"1\" class=\"dataframe\">\n",
       "  <thead>\n",
       "    <tr style=\"text-align: right;\">\n",
       "      <th></th>\n",
       "      <th>index</th>\n",
       "      <th>Lat</th>\n",
       "      <th>Long</th>\n",
       "      <th>Magnitude</th>\n",
       "      <th>Epicenter</th>\n",
       "      <th>DateTime</th>\n",
       "    </tr>\n",
       "  </thead>\n",
       "  <tbody>\n",
       "    <tr>\n",
       "      <th>0</th>\n",
       "      <td>9</td>\n",
       "      <td>27.75</td>\n",
       "      <td>86.16</td>\n",
       "      <td>5.1</td>\n",
       "      <td>Dolakha</td>\n",
       "      <td>1994-06-25 05:45:00</td>\n",
       "    </tr>\n",
       "    <tr>\n",
       "      <th>1</th>\n",
       "      <td>8</td>\n",
       "      <td>29.37</td>\n",
       "      <td>81.52</td>\n",
       "      <td>5.5</td>\n",
       "      <td>Bajura</td>\n",
       "      <td>1994-07-17 11:00:00</td>\n",
       "    </tr>\n",
       "    <tr>\n",
       "      <th>2</th>\n",
       "      <td>7</td>\n",
       "      <td>26.09</td>\n",
       "      <td>79.51</td>\n",
       "      <td>6.0</td>\n",
       "      <td>India</td>\n",
       "      <td>1994-08-31 11:00:00</td>\n",
       "    </tr>\n",
       "    <tr>\n",
       "      <th>3</th>\n",
       "      <td>6</td>\n",
       "      <td>28.34</td>\n",
       "      <td>87.35</td>\n",
       "      <td>4.8</td>\n",
       "      <td>Sankhuwasabha</td>\n",
       "      <td>1994-09-25 11:00:00</td>\n",
       "    </tr>\n",
       "    <tr>\n",
       "      <th>4</th>\n",
       "      <td>5</td>\n",
       "      <td>29.00</td>\n",
       "      <td>82.26</td>\n",
       "      <td>4.6</td>\n",
       "      <td>Jajarkot</td>\n",
       "      <td>1994-10-22 11:00:00</td>\n",
       "    </tr>\n",
       "  </tbody>\n",
       "</table>\n",
       "</div>"
      ],
      "text/plain": [
       "   index    Lat   Long  Magnitude      Epicenter            DateTime\n",
       "0      9  27.75  86.16        5.1        Dolakha 1994-06-25 05:45:00\n",
       "1      8  29.37  81.52        5.5         Bajura 1994-07-17 11:00:00\n",
       "2      7  26.09  79.51        6.0          India 1994-08-31 11:00:00\n",
       "3      6  28.34  87.35        4.8  Sankhuwasabha 1994-09-25 11:00:00\n",
       "4      5  29.00  82.26        4.6       Jajarkot 1994-10-22 11:00:00"
      ]
     },
     "execution_count": 434,
     "metadata": {},
     "output_type": "execute_result"
    }
   ],
   "source": [
    "df.head()"
   ]
  },
  {
   "cell_type": "code",
   "execution_count": 431,
   "metadata": {},
   "outputs": [],
   "source": [
    "df = df.sort_values(by='DateTime')"
   ]
  },
  {
   "cell_type": "code",
   "execution_count": 433,
   "metadata": {},
   "outputs": [],
   "source": [
    "df = df.reset_index()"
   ]
  },
  {
   "cell_type": "code",
   "execution_count": 447,
   "metadata": {},
   "outputs": [
    {
     "name": "stdout",
     "output_type": "stream",
     "text": [
      "(array([], dtype=int64), array([], dtype=int64))\n",
      "(array([91, 92, 97]),)\n",
      "(array([ 24,  37,  42,  50,  51,  89, 151, 243, 360]),)\n",
      "(array([124, 125, 126]),)\n"
     ]
    },
    {
     "data": {
      "text/html": [
       "<div>\n",
       "<style scoped>\n",
       "    .dataframe tbody tr th:only-of-type {\n",
       "        vertical-align: middle;\n",
       "    }\n",
       "\n",
       "    .dataframe tbody tr th {\n",
       "        vertical-align: top;\n",
       "    }\n",
       "\n",
       "    .dataframe thead th {\n",
       "        text-align: right;\n",
       "    }\n",
       "</style>\n",
       "<table border=\"1\" class=\"dataframe\">\n",
       "  <thead>\n",
       "    <tr style=\"text-align: right;\">\n",
       "      <th></th>\n",
       "      <th>index</th>\n",
       "      <th>Lat</th>\n",
       "      <th>Long</th>\n",
       "      <th>Magnitude</th>\n",
       "      <th>Epicenter</th>\n",
       "      <th>DateTime</th>\n",
       "    </tr>\n",
       "  </thead>\n",
       "  <tbody>\n",
       "    <tr>\n",
       "      <th>139</th>\n",
       "      <td>141</td>\n",
       "      <td>28.58</td>\n",
       "      <td>82.96</td>\n",
       "      <td>4.3</td>\n",
       "      <td>Niseldhar, Baglung</td>\n",
       "      <td>2004-05-29 11:00:00</td>\n",
       "    </tr>\n",
       "    <tr>\n",
       "      <th>140</th>\n",
       "      <td>142</td>\n",
       "      <td>28.55</td>\n",
       "      <td>82.96</td>\n",
       "      <td>4.9</td>\n",
       "      <td>Niseldhar, Baglung</td>\n",
       "      <td>2004-05-29 11:00:00</td>\n",
       "    </tr>\n",
       "    <tr>\n",
       "      <th>141</th>\n",
       "      <td>143</td>\n",
       "      <td>28.59</td>\n",
       "      <td>82.98</td>\n",
       "      <td>4.3</td>\n",
       "      <td>Niseldhar, Baglung</td>\n",
       "      <td>2004-05-29 11:00:00</td>\n",
       "    </tr>\n",
       "  </tbody>\n",
       "</table>\n",
       "</div>"
      ],
      "text/plain": [
       "     index    Lat   Long  Magnitude           Epicenter            DateTime\n",
       "139    141  28.58  82.96        4.3  Niseldhar, Baglung 2004-05-29 11:00:00\n",
       "140    142  28.55  82.96        4.9  Niseldhar, Baglung 2004-05-29 11:00:00\n",
       "141    143  28.59  82.98        4.3  Niseldhar, Baglung 2004-05-29 11:00:00"
      ]
     },
     "execution_count": 447,
     "metadata": {},
     "output_type": "execute_result"
    }
   ],
   "source": [
    "#Check where data is null\n",
    "print(np.where(pd.isnull(df)))\n",
    "print(np.where(df.Epicenter == \"Kailali\"))\n",
    "print(np.where(df.Epicenter == \"Solukhumbu\"))\n",
    "print(np.where(df.Epicenter == \"Niseldhar, Baglung\"))\n",
    "df[124:127]"
   ]
  },
  {
   "cell_type": "code",
   "execution_count": 440,
   "metadata": {},
   "outputs": [
    {
     "name": "stderr",
     "output_type": "stream",
     "text": [
      "/Library/Frameworks/Python.framework/Versions/3.7/lib/python3.7/site-packages/ipykernel_launcher.py:2: SettingWithCopyWarning: \n",
      "A value is trying to be set on a copy of a slice from a DataFrame\n",
      "\n",
      "See the caveats in the documentation: http://pandas.pydata.org/pandas-docs/stable/indexing.html#indexing-view-versus-copy\n",
      "  \n",
      "/Library/Frameworks/Python.framework/Versions/3.7/lib/python3.7/site-packages/ipykernel_launcher.py:4: SettingWithCopyWarning: \n",
      "A value is trying to be set on a copy of a slice from a DataFrame\n",
      "\n",
      "See the caveats in the documentation: http://pandas.pydata.org/pandas-docs/stable/indexing.html#indexing-view-versus-copy\n",
      "  after removing the cwd from sys.path.\n",
      "/Library/Frameworks/Python.framework/Versions/3.7/lib/python3.7/site-packages/ipykernel_launcher.py:5: SettingWithCopyWarning: \n",
      "A value is trying to be set on a copy of a slice from a DataFrame\n",
      "\n",
      "See the caveats in the documentation: http://pandas.pydata.org/pandas-docs/stable/indexing.html#indexing-view-versus-copy\n",
      "  \"\"\"\n",
      "/Library/Frameworks/Python.framework/Versions/3.7/lib/python3.7/site-packages/ipykernel_launcher.py:6: SettingWithCopyWarning: \n",
      "A value is trying to be set on a copy of a slice from a DataFrame\n",
      "\n",
      "See the caveats in the documentation: http://pandas.pydata.org/pandas-docs/stable/indexing.html#indexing-view-versus-copy\n",
      "  \n"
     ]
    }
   ],
   "source": [
    "# Converted the empty to India because the coordianted were in India, one of the Kailali coordiantes was wrong\n",
    "df.Epicenter[25]=\"India\"\n",
    "np.where(df.Epicenter == \"Kailali\")\n",
    "df.Long[108] = 80.75\n",
    "df.Long[167] = 86.842\n",
    "df.Long[139] = 82.96"
   ]
  },
  {
   "cell_type": "code",
   "execution_count": 441,
   "metadata": {},
   "outputs": [],
   "source": [
    "#Drop any row with epicenters outside Nepal\n",
    "check = ['India',\"Bangladesh\",\"Bhuj/India\",\"Bhutan\",\"Chamauli/India\",\"Tibet\",\"Bangaladesh\",\"Pithoragarh\",\"Sikkim\"\n",
    "        ,\"India (close to Darchula)\", \"Jhapa-India Border Region\"]\n",
    "\n",
    "for place in check:\n",
    "    for epicenter in df.Epicenter:\n",
    "        df = df[df.Epicenter != place]"
   ]
  },
  {
   "cell_type": "code",
   "execution_count": 442,
   "metadata": {},
   "outputs": [
    {
     "data": {
      "text/html": [
       "<div>\n",
       "<style scoped>\n",
       "    .dataframe tbody tr th:only-of-type {\n",
       "        vertical-align: middle;\n",
       "    }\n",
       "\n",
       "    .dataframe tbody tr th {\n",
       "        vertical-align: top;\n",
       "    }\n",
       "\n",
       "    .dataframe thead th {\n",
       "        text-align: right;\n",
       "    }\n",
       "</style>\n",
       "<table border=\"1\" class=\"dataframe\">\n",
       "  <thead>\n",
       "    <tr style=\"text-align: right;\">\n",
       "      <th></th>\n",
       "      <th>index</th>\n",
       "      <th>Lat</th>\n",
       "      <th>Long</th>\n",
       "      <th>Magnitude</th>\n",
       "      <th>Epicenter</th>\n",
       "      <th>DateTime</th>\n",
       "    </tr>\n",
       "  </thead>\n",
       "  <tbody>\n",
       "    <tr>\n",
       "      <th>0</th>\n",
       "      <td>9</td>\n",
       "      <td>27.75</td>\n",
       "      <td>86.16</td>\n",
       "      <td>5.1</td>\n",
       "      <td>Dolakha</td>\n",
       "      <td>1994-06-25 05:45:00</td>\n",
       "    </tr>\n",
       "    <tr>\n",
       "      <th>1</th>\n",
       "      <td>8</td>\n",
       "      <td>29.37</td>\n",
       "      <td>81.52</td>\n",
       "      <td>5.5</td>\n",
       "      <td>Bajura</td>\n",
       "      <td>1994-07-17 11:00:00</td>\n",
       "    </tr>\n",
       "    <tr>\n",
       "      <th>3</th>\n",
       "      <td>6</td>\n",
       "      <td>28.34</td>\n",
       "      <td>87.35</td>\n",
       "      <td>4.8</td>\n",
       "      <td>Sankhuwasabha</td>\n",
       "      <td>1994-09-25 11:00:00</td>\n",
       "    </tr>\n",
       "    <tr>\n",
       "      <th>4</th>\n",
       "      <td>5</td>\n",
       "      <td>29.00</td>\n",
       "      <td>82.26</td>\n",
       "      <td>4.6</td>\n",
       "      <td>Jajarkot</td>\n",
       "      <td>1994-10-22 11:00:00</td>\n",
       "    </tr>\n",
       "    <tr>\n",
       "      <th>5</th>\n",
       "      <td>4</td>\n",
       "      <td>28.92</td>\n",
       "      <td>82.00</td>\n",
       "      <td>4.7</td>\n",
       "      <td>Jajarkot</td>\n",
       "      <td>1994-10-24 11:00:00</td>\n",
       "    </tr>\n",
       "  </tbody>\n",
       "</table>\n",
       "</div>"
      ],
      "text/plain": [
       "   index    Lat   Long  Magnitude      Epicenter            DateTime\n",
       "0      9  27.75  86.16        5.1        Dolakha 1994-06-25 05:45:00\n",
       "1      8  29.37  81.52        5.5         Bajura 1994-07-17 11:00:00\n",
       "3      6  28.34  87.35        4.8  Sankhuwasabha 1994-09-25 11:00:00\n",
       "4      5  29.00  82.26        4.6       Jajarkot 1994-10-22 11:00:00\n",
       "5      4  28.92  82.00        4.7       Jajarkot 1994-10-24 11:00:00"
      ]
     },
     "execution_count": 442,
     "metadata": {},
     "output_type": "execute_result"
    }
   ],
   "source": [
    "df.head()\n"
   ]
  },
  {
   "cell_type": "code",
   "execution_count": 448,
   "metadata": {},
   "outputs": [],
   "source": [
    "df.to_csv('earthquake.csv')"
   ]
  },
  {
   "cell_type": "code",
   "execution_count": 445,
   "metadata": {},
   "outputs": [
    {
     "data": {
      "text/html": [
       "<div>\n",
       "<style scoped>\n",
       "    .dataframe tbody tr th:only-of-type {\n",
       "        vertical-align: middle;\n",
       "    }\n",
       "\n",
       "    .dataframe tbody tr th {\n",
       "        vertical-align: top;\n",
       "    }\n",
       "\n",
       "    .dataframe thead th {\n",
       "        text-align: right;\n",
       "    }\n",
       "</style>\n",
       "<table border=\"1\" class=\"dataframe\">\n",
       "  <thead>\n",
       "    <tr style=\"text-align: right;\">\n",
       "      <th></th>\n",
       "      <th>index</th>\n",
       "      <th>Lat</th>\n",
       "      <th>Long</th>\n",
       "      <th>Magnitude</th>\n",
       "      <th>Epicenter</th>\n",
       "      <th>DateTime</th>\n",
       "    </tr>\n",
       "  </thead>\n",
       "  <tbody>\n",
       "    <tr>\n",
       "      <th>154</th>\n",
       "      <td>171</td>\n",
       "      <td>27.76</td>\n",
       "      <td>86.07</td>\n",
       "      <td>5.0</td>\n",
       "      <td>Dolakha</td>\n",
       "      <td>2005-02-08 11:00:00</td>\n",
       "    </tr>\n",
       "    <tr>\n",
       "      <th>155</th>\n",
       "      <td>170</td>\n",
       "      <td>28.27</td>\n",
       "      <td>84.39</td>\n",
       "      <td>5.0</td>\n",
       "      <td>Lamjung</td>\n",
       "      <td>2005-03-05 11:00:00</td>\n",
       "    </tr>\n",
       "    <tr>\n",
       "      <th>156</th>\n",
       "      <td>169</td>\n",
       "      <td>28.25</td>\n",
       "      <td>84.39</td>\n",
       "      <td>5.4</td>\n",
       "      <td>Lamjung</td>\n",
       "      <td>2005-03-19 11:00:00</td>\n",
       "    </tr>\n",
       "  </tbody>\n",
       "</table>\n",
       "</div>"
      ],
      "text/plain": [
       "     index    Lat   Long  Magnitude Epicenter            DateTime\n",
       "154    171  27.76  86.07        5.0   Dolakha 2005-02-08 11:00:00\n",
       "155    170  28.27  84.39        5.0   Lamjung 2005-03-05 11:00:00\n",
       "156    169  28.25  84.39        5.4   Lamjung 2005-03-19 11:00:00"
      ]
     },
     "execution_count": 445,
     "metadata": {},
     "output_type": "execute_result"
    }
   ],
   "source": [
    "df[139:142]"
   ]
  },
  {
   "cell_type": "code",
   "execution_count": null,
   "metadata": {},
   "outputs": [],
   "source": []
  }
 ],
 "metadata": {
  "kernelspec": {
   "display_name": "Python 3",
   "language": "python",
   "name": "python3"
  },
  "language_info": {
   "codemirror_mode": {
    "name": "ipython",
    "version": 3
   },
   "file_extension": ".py",
   "mimetype": "text/x-python",
   "name": "python",
   "nbconvert_exporter": "python",
   "pygments_lexer": "ipython3",
   "version": "3.7.3"
  }
 },
 "nbformat": 4,
 "nbformat_minor": 2
}
