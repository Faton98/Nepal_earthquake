{
 "cells": [
  {
   "cell_type": "code",
   "execution_count": 1,
   "metadata": {},
   "outputs": [],
   "source": [
    "import pandas as pd \n",
    "import requests\n",
    "import numpy as np\n",
    "import seaborn as sns\n",
    "import matplotlib.pyplot as plt\n",
    "import scipy.stats as stats"
   ]
  },
  {
   "cell_type": "code",
   "execution_count": 2,
   "metadata": {},
   "outputs": [],
   "source": [
    "#Function to fetch table to data\n",
    "def fetch_data_from_url(url):\n",
    "    #gets the page content from the url \n",
    "    html = requests.get(url).content\n",
    "    #read the table content of html \n",
    "    df_list = pd.read_html(html)\n",
    "    #targets the first table from the list of table\n",
    "    df = df_list[0]\n",
    "    df.index += 1 \n",
    "    return df"
   ]
  },
  {
   "cell_type": "code",
   "execution_count": 3,
   "metadata": {},
   "outputs": [],
   "source": [
    "#a better way to do this \n",
    "urls = [\"http://seismonepal.gov.np/earthquakes/1994\",\n",
    "       \"http://seismonepal.gov.np/earthquakes/1995\",\n",
    "       \"http://seismonepal.gov.np/earthquakes/1996\",\n",
    "       \"http://seismonepal.gov.np/earthquakes/1997\",\n",
    "       \"http://seismonepal.gov.np/earthquakes/1998\",\n",
    "       \"http://seismonepal.gov.np/earthquakes/1999\",\n",
    "       \"http://seismonepal.gov.np/earthquakes/2000\",\n",
    "       \"http://seismonepal.gov.np/earthquakes/2001\",\n",
    "       \"http://seismonepal.gov.np/earthquakes/2002\",\n",
    "       \"http://seismonepal.gov.np/earthquakes/2003\",\n",
    "       \"http://seismonepal.gov.np/earthquakes/2004\",\n",
    "       \"http://seismonepal.gov.np/earthquakes/2005\",\n",
    "       \"http://seismonepal.gov.np/earthquakes/2006\",\n",
    "       \"http://seismonepal.gov.np/earthquakes/2007\",\n",
    "       \"http://seismonepal.gov.np/earthquakes/2008\",\n",
    "       \"http://seismonepal.gov.np/earthquakes/2009\",\n",
    "       \"http://seismonepal.gov.np/earthquakes/2010\",\n",
    "       \"http://seismonepal.gov.np/earthquakes/2011\",\n",
    "       \"http://seismonepal.gov.np/earthquakes/2012\",\n",
    "       \"http://seismonepal.gov.np/earthquakes/2013\",\n",
    "       \"http://seismonepal.gov.np/earthquakes/2014\",\n",
    "       \"http://seismonepal.gov.np/earthquakes/2015\",\n",
    "       \"http://seismonepal.gov.np/earthquakes/2016\",\n",
    "       \"http://seismonepal.gov.np/earthquakes/2017\",\n",
    "       \"http://seismonepal.gov.np/earthquakes/2018\",\n",
    "       \"http://seismonepal.gov.np/earthquakes/2019\",]\n",
    "\n",
    "#getting all the data from 1994-2019 in one place     \n",
    "result = []\n",
    "for url in urls:\n",
    "    result.append(fetch_data_from_url(url))"
   ]
  },
  {
   "cell_type": "code",
   "execution_count": 4,
   "metadata": {},
   "outputs": [],
   "source": [
    "#concatenate all the table from result array to one dataframe\n",
    "df = pd.concat(result)"
   ]
  },
  {
   "cell_type": "code",
   "execution_count": 5,
   "metadata": {},
   "outputs": [],
   "source": [
    "#dropping the un-necessary columns\n",
    "df = df.drop(['Form','Remarks'],axis = 1)"
   ]
  },
  {
   "cell_type": "code",
   "execution_count": 6,
   "metadata": {},
   "outputs": [],
   "source": [
    "# check data type of each columns\n",
    "df.columns = ['Date','Time','Lat',\"Long\",\"Magnitude\",\"Epicenter\"]"
   ]
  },
  {
   "cell_type": "code",
   "execution_count": 7,
   "metadata": {},
   "outputs": [
    {
     "data": {
      "text/html": [
       "<div>\n",
       "<style scoped>\n",
       "    .dataframe tbody tr th:only-of-type {\n",
       "        vertical-align: middle;\n",
       "    }\n",
       "\n",
       "    .dataframe tbody tr th {\n",
       "        vertical-align: top;\n",
       "    }\n",
       "\n",
       "    .dataframe thead th {\n",
       "        text-align: right;\n",
       "    }\n",
       "</style>\n",
       "<table border=\"1\" class=\"dataframe\">\n",
       "  <thead>\n",
       "    <tr style=\"text-align: right;\">\n",
       "      <th></th>\n",
       "      <th>Date</th>\n",
       "      <th>Time</th>\n",
       "      <th>Lat</th>\n",
       "      <th>Long</th>\n",
       "      <th>Magnitude</th>\n",
       "      <th>Epicenter</th>\n",
       "    </tr>\n",
       "  </thead>\n",
       "  <tbody>\n",
       "    <tr>\n",
       "      <th>1</th>\n",
       "      <td>B.S:2051-8-28 A.D:1994-12-13</td>\n",
       "      <td>Local:11:00UTC:N/A</td>\n",
       "      <td>28.70</td>\n",
       "      <td>82.88</td>\n",
       "      <td>4.6</td>\n",
       "      <td>Rukum</td>\n",
       "    </tr>\n",
       "    <tr>\n",
       "      <th>2</th>\n",
       "      <td>B.S:2051-8-27 A.D:1994-12-12</td>\n",
       "      <td>Local:11:00UTC:N/A</td>\n",
       "      <td>29.84</td>\n",
       "      <td>80.69</td>\n",
       "      <td>4.6</td>\n",
       "      <td>Darchula</td>\n",
       "    </tr>\n",
       "    <tr>\n",
       "      <th>3</th>\n",
       "      <td>B.S:2051-8-12 A.D:1994-11-27</td>\n",
       "      <td>Local:11:00UTC:N/A</td>\n",
       "      <td>29.72</td>\n",
       "      <td>81.56</td>\n",
       "      <td>4.5</td>\n",
       "      <td>Bajura</td>\n",
       "    </tr>\n",
       "    <tr>\n",
       "      <th>4</th>\n",
       "      <td>B.S:2051-8-6 A.D:1994-11-21</td>\n",
       "      <td>Local:11:00UTC:N/A</td>\n",
       "      <td>29.54</td>\n",
       "      <td>81.15</td>\n",
       "      <td>4.2</td>\n",
       "      <td>Bajhang</td>\n",
       "    </tr>\n",
       "    <tr>\n",
       "      <th>5</th>\n",
       "      <td>B.S:2051-7-8 A.D:1994-10-24</td>\n",
       "      <td>Local:11:00UTC:N/A</td>\n",
       "      <td>28.92</td>\n",
       "      <td>82.00</td>\n",
       "      <td>4.7</td>\n",
       "      <td>Jajarkot</td>\n",
       "    </tr>\n",
       "  </tbody>\n",
       "</table>\n",
       "</div>"
      ],
      "text/plain": [
       "                           Date                Time    Lat   Long  Magnitude  \\\n",
       "1  B.S:2051-8-28 A.D:1994-12-13  Local:11:00UTC:N/A  28.70  82.88        4.6   \n",
       "2  B.S:2051-8-27 A.D:1994-12-12  Local:11:00UTC:N/A  29.84  80.69        4.6   \n",
       "3  B.S:2051-8-12 A.D:1994-11-27  Local:11:00UTC:N/A  29.72  81.56        4.5   \n",
       "4   B.S:2051-8-6 A.D:1994-11-21  Local:11:00UTC:N/A  29.54  81.15        4.2   \n",
       "5   B.S:2051-7-8 A.D:1994-10-24  Local:11:00UTC:N/A  28.92  82.00        4.7   \n",
       "\n",
       "  Epicenter  \n",
       "1     Rukum  \n",
       "2  Darchula  \n",
       "3    Bajura  \n",
       "4   Bajhang  \n",
       "5  Jajarkot  "
      ]
     },
     "execution_count": 7,
     "metadata": {},
     "output_type": "execute_result"
    }
   ],
   "source": [
    "df.head()"
   ]
  },
  {
   "cell_type": "code",
   "execution_count": 17,
   "metadata": {},
   "outputs": [],
   "source": [
    "#change the Date column to a proper format(removing the nepali date)\n",
    "dates = []\n",
    "for line in df.Date:\n",
    "#   Split the two dates given \n",
    "    date = line.split()\n",
    "    date = line.split(\":\")\n",
    "    del date[:2]\n",
    "    dates.append(date)"
   ]
  },
  {
   "cell_type": "code",
   "execution_count": 10,
   "metadata": {},
   "outputs": [],
   "source": [
    "# Change the Time column to standard format\n",
    "Times = []\n",
    "for line in df.Time:\n",
    "    Time = line.split(\"Local:\")  \n",
    "    del Time[0]\n",
    "    for time_line in Time:\n",
    "        Time = time_line.split('UTC:')\n",
    "        del Time[1]\n",
    "#         print(Time)\n",
    "    Times.append(Time)"
   ]
  },
  {
   "cell_type": "code",
   "execution_count": 12,
   "metadata": {},
   "outputs": [],
   "source": [
    "#Covert the date and time column to pandas dataframe\n",
    "Times = pd.DataFrame(Times)\n",
    "Times.columns =['Time']\n",
    "Dates = pd.DataFrame(dates)\n",
    "Dates.columns=['Date']"
   ]
  },
  {
   "cell_type": "code",
   "execution_count": 14,
   "metadata": {},
   "outputs": [],
   "source": [
    "# Concatenate the date and time dataframe together separated by space\n",
    "Dates['DateTime'] = Dates[\"Date\"]+ \" \" + Times[\"Time\"].map(str)"
   ]
  },
  {
   "cell_type": "code",
   "execution_count": 15,
   "metadata": {},
   "outputs": [],
   "source": [
    "#Convert the DateTime column to datetime type\n",
    "Dates['DateTime'] = pd.to_datetime(Dates['DateTime'],  errors='coerce')"
   ]
  },
  {
   "cell_type": "code",
   "execution_count": 18,
   "metadata": {},
   "outputs": [],
   "source": [
    "#reset the index to start from 0 \n",
    "df_1= df.reset_index()\n",
    "df = df_1"
   ]
  },
  {
   "cell_type": "code",
   "execution_count": 19,
   "metadata": {},
   "outputs": [],
   "source": [
    "# Merge the datetime column to the main dataframe\n",
    "df['DateTime'] = Dates['DateTime']"
   ]
  },
  {
   "cell_type": "code",
   "execution_count": 20,
   "metadata": {},
   "outputs": [],
   "source": [
    "#Drop the columns not required\n",
    "df = df.drop(['Date','Time','index'],axis = 1)"
   ]
  },
  {
   "cell_type": "code",
   "execution_count": 21,
   "metadata": {},
   "outputs": [],
   "source": [
    "df.to_csv('earthquake.csv')"
   ]
  }
 ],
 "metadata": {
  "kernelspec": {
   "display_name": "Python 3",
   "language": "python",
   "name": "python3"
  },
  "language_info": {
   "codemirror_mode": {
    "name": "ipython",
    "version": 3
   },
   "file_extension": ".py",
   "mimetype": "text/x-python",
   "name": "python",
   "nbconvert_exporter": "python",
   "pygments_lexer": "ipython3",
   "version": "3.7.3"
  }
 },
 "nbformat": 4,
 "nbformat_minor": 2
}
